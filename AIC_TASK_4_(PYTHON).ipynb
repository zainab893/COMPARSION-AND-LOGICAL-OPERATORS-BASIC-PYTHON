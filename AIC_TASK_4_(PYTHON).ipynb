{
  "nbformat": 4,
  "nbformat_minor": 0,
  "metadata": {
    "colab": {
      "provenance": []
    },
    "kernelspec": {
      "name": "python3",
      "display_name": "Python 3"
    },
    "language_info": {
      "name": "python"
    }
  },
  "cells": [
    {
      "cell_type": "code",
      "execution_count": null,
      "metadata": {
        "id": "hbgSLRlPh31J"
      },
      "outputs": [],
      "source": []
    },
    {
      "cell_type": "code",
      "source": [
        "# COMPARSION OPERATORS\n",
        "# EQUALS\n",
        "\n",
        "# EXAMPLE 1\n",
        "x = 4\n",
        "y = 5\n",
        "print(x == y)\n",
        "\n",
        "# EXAMPLE 2\n",
        "x = 36\n",
        "y = 6**2\n",
        "print(x == y)\n",
        "\n",
        "# EXAMPLE 3\n",
        "z = 0\n",
        "v = 25%5\n",
        "print(z == v)\n",
        "\n",
        "# EXAMPLE 4\n",
        "x = 12\n",
        "y = 3*4\n",
        "print(x == y)\n",
        "\n",
        "# EXAMPLE 5\n",
        "x = 10\n",
        "y = 9\n",
        "print(x == y)\n",
        "\n",
        "# EXAMPLE 6\n",
        "x = 10\n",
        "y = 10\n",
        "print(x == y)"
      ],
      "metadata": {
        "colab": {
          "base_uri": "https://localhost:8080/"
        },
        "id": "LbLW2U3Dh7dq",
        "outputId": "371b6c9b-2575-4c87-c2af-075256af662d"
      },
      "execution_count": 1,
      "outputs": [
        {
          "output_type": "stream",
          "name": "stdout",
          "text": [
            "False\n",
            "True\n",
            "True\n",
            "True\n",
            "False\n",
            "True\n"
          ]
        }
      ]
    },
    {
      "cell_type": "code",
      "source": [
        "# NOT EQUAL\n",
        "\n",
        "# EXAMPLE 1\n",
        "x = 25\n",
        "y = 25\n",
        "print(x != y)\n",
        "\n",
        "# EXAMPLE 2\n",
        "x = 2\n",
        "y = 22/11\n",
        "print(x != y)\n",
        "\n",
        "# EXAMPLE 3\n",
        "x = 49\n",
        "y = 7**2\n",
        "print(x != y)\n",
        "\n",
        "# EXAMPLE 4\n",
        "x = 10\n",
        "y = 15\n",
        "print(x != y)\n",
        "\n",
        "# EXAMPLE 5\n",
        "x = 1\n",
        "y = 48 % 8\n",
        "print(x != y)"
      ],
      "metadata": {
        "colab": {
          "base_uri": "https://localhost:8080/"
        },
        "id": "3A2EL_eBh8Fe",
        "outputId": "ae63dd10-c357-4be5-8a03-c0a0a5d154b5"
      },
      "execution_count": 2,
      "outputs": [
        {
          "output_type": "stream",
          "name": "stdout",
          "text": [
            "False\n",
            "False\n",
            "False\n",
            "True\n",
            "True\n"
          ]
        }
      ]
    },
    {
      "cell_type": "code",
      "source": [
        "# GREATER THAN\n",
        "\n",
        "# EXAMPLE 1\n",
        "x = 50\n",
        "y = 40\n",
        "print( x > y)\n",
        "\n",
        "# EXAMPLE 2\n",
        "x = 3**2\n",
        "y = 2**2\n",
        "print(x > y)\n",
        "\n",
        "# EXAMPLE 3\n",
        "x = 50/10\n",
        "y = 40/4\n",
        "print(x > y)\n",
        "\n",
        "#EXAMPLE 4\n",
        "x = 8*9\n",
        "y = 8*10\n",
        "print(x > y)\n",
        "\n",
        "# EXAMPLE 5\n",
        "x = 10\n",
        "y = 9\n",
        "print(x > y)\n"
      ],
      "metadata": {
        "colab": {
          "base_uri": "https://localhost:8080/"
        },
        "id": "V3co4II0jyRG",
        "outputId": "6c0c0754-902e-4b06-e328-997b37d29142"
      },
      "execution_count": 3,
      "outputs": [
        {
          "output_type": "stream",
          "name": "stdout",
          "text": [
            "True\n",
            "True\n",
            "False\n",
            "False\n",
            "True\n"
          ]
        }
      ]
    },
    {
      "cell_type": "code",
      "source": [
        "# LESS THAN\n",
        "\n",
        "# EXAMPLE 1\n",
        "x = 70\n",
        "y = 50\n",
        "print(y < x)\n",
        "\n",
        "# EXAMPLE 2\n",
        "x = 9**2\n",
        "y = 8**2\n",
        "print(y < x)\n",
        "\n",
        "# EXAMPLE 3\n",
        "x = 64/8\n",
        "y = 40/10\n",
        "print(x < y)\n",
        "\n",
        "# EXAMPLE 4\n",
        "x = 2*9\n",
        "y = 3*5\n",
        "print(x < y)\n",
        "\n",
        "# EXAMPLE 5\n",
        "x = 10\n",
        "y = 10\n",
        "print(x < y)\n"
      ],
      "metadata": {
        "colab": {
          "base_uri": "https://localhost:8080/"
        },
        "id": "JvhHzSyCjyYt",
        "outputId": "25fe313d-fadb-42f2-e0dc-c1b0c333f61e"
      },
      "execution_count": 4,
      "outputs": [
        {
          "output_type": "stream",
          "name": "stdout",
          "text": [
            "True\n",
            "True\n",
            "False\n",
            "False\n",
            "False\n"
          ]
        }
      ]
    },
    {
      "cell_type": "code",
      "source": [
        "# GREATER THAN OR EQUAL TO\n",
        "\n",
        "# EXAMPLE 1\n",
        "x = 10\n",
        "y = 20\n",
        "print(x >= y)\n",
        "\n",
        "# EXAMPLE 2\n",
        "x = 2**2\n",
        "y = 4**2\n",
        "print(x >= y)\n",
        "\n",
        "# EXAMPLE 3\n",
        "z = 50/10\n",
        "v = 20/10\n",
        "print(z >= v)\n",
        "\n",
        "# EXAMPLE 4\n",
        "x = 36 % 6\n",
        "y = 49 % 8\n",
        "print(y >= x)\n",
        "\n",
        "# EXAMPLE 5\n",
        "x = 10\n",
        "y = 50\n",
        "print(x >= y)"
      ],
      "metadata": {
        "colab": {
          "base_uri": "https://localhost:8080/"
        },
        "id": "x9J2tTfDjycp",
        "outputId": "541eff7a-fd19-495f-bb1b-e00ce8ab96e9"
      },
      "execution_count": 5,
      "outputs": [
        {
          "output_type": "stream",
          "name": "stdout",
          "text": [
            "False\n",
            "False\n",
            "True\n",
            "True\n",
            "False\n"
          ]
        }
      ]
    },
    {
      "cell_type": "code",
      "source": [
        "# LESS THAN OR EQUAL TO\n",
        "\n",
        "# EXAMPLE 1\n",
        "x =  30\n",
        "y = 50\n",
        "print(x <= y)\n",
        "\n",
        "# EXAMPLE 2\n",
        "x = 5**2\n",
        "y = 4*5\n",
        "print(x <= y)\n",
        "\n",
        "# EXAMPLE 3\n",
        "z = 8**2\n",
        "v = 12*5\n",
        "print(v <= z)\n",
        "\n",
        "# EXAMPLE 4\n",
        "x = 44\n",
        "y = 44\n",
        "print( x <= y)\n",
        "\n",
        "# EXAMPLE 5\n",
        "x = 20\n",
        "y = 20\n",
        "print(x <= y)\n"
      ],
      "metadata": {
        "colab": {
          "base_uri": "https://localhost:8080/"
        },
        "id": "MkjzdiNPjygh",
        "outputId": "a3cdfa1a-b2af-4e95-e825-205eaa46f8bf"
      },
      "execution_count": 6,
      "outputs": [
        {
          "output_type": "stream",
          "name": "stdout",
          "text": [
            "True\n",
            "False\n",
            "True\n",
            "True\n",
            "True\n"
          ]
        }
      ]
    },
    {
      "cell_type": "code",
      "source": [
        "# LOGICAL OPERATORS\n",
        "# AND\n",
        "\n",
        "# EXAMPLE 1\n",
        "x = 15\n",
        "print(x>10 and x<20)\n",
        "\n",
        "# EXAMPLE 2\n",
        "x = 50\n",
        "print(x> 30 and x<70)\n",
        "\n",
        "# EXAMPLE 3\n",
        "y = 70\n",
        "print(y>8*10 and y<9**2)\n",
        "\n",
        "# EXAMPLE 4\n",
        "y = 20\n",
        "print(y>2*9 and y<18%2 )\n",
        "\n",
        "# EXAMPLE 5\n",
        "z = 30\n",
        "print(z>20 and z<25)"
      ],
      "metadata": {
        "colab": {
          "base_uri": "https://localhost:8080/"
        },
        "id": "F_UTX7gQh8Kz",
        "outputId": "bc36d81d-4b61-4040-9f2a-5a10ee81e0b9"
      },
      "execution_count": 7,
      "outputs": [
        {
          "output_type": "stream",
          "name": "stdout",
          "text": [
            "True\n",
            "True\n",
            "False\n",
            "False\n",
            "False\n"
          ]
        }
      ]
    },
    {
      "cell_type": "code",
      "source": [
        "# OR\n",
        "# EXAMPLE 1\n",
        "x = 35\n",
        "print(x > 40 or x < 15)\n",
        "\n",
        "# EXAMPLE 2\n",
        "x = 40\n",
        "print(x > 2*10 or x < 2**4)\n",
        "\n",
        "# EXAMPLE 3\n",
        "x = 50\n",
        "print(x > 50 or x < 45)\n",
        "\n",
        "# EXAMPLE 4\n",
        "y = 3**2\n",
        "print(y > 4 or y < 5 )\n",
        "\n",
        "# EXAMPLE 5\n",
        "y = 50%10\n",
        "print(y> 1 or y< 5)"
      ],
      "metadata": {
        "colab": {
          "base_uri": "https://localhost:8080/"
        },
        "id": "d6JgSQAIkGFP",
        "outputId": "f8c05661-875b-49f4-9a5a-c025cd0cd71b"
      },
      "execution_count": 8,
      "outputs": [
        {
          "output_type": "stream",
          "name": "stdout",
          "text": [
            "False\n",
            "True\n",
            "False\n",
            "True\n",
            "True\n"
          ]
        }
      ]
    },
    {
      "cell_type": "code",
      "source": [
        "# NOT\n",
        "# EXAMPLE 1\n",
        "x = 25\n",
        "print(not(x < 30 and x > 20 ))\n",
        "\n",
        "# EXAMPLE 2\n",
        "x = 36\n",
        "print(not(x > 5**2 or x < 7**2))\n",
        "\n",
        "# EXAMPLE 3\n",
        "x = 18\n",
        "print(not(x < 15 or x > 20))\n",
        "\n",
        "# EXAMPLE 4\n",
        "x = 4\n",
        "print(not(x > 8/4 and x < 8/8))\n",
        "\n",
        "# EXAMPLE 5\n",
        "x = 10\n",
        "print(not(x < 5 and x > 10))"
      ],
      "metadata": {
        "colab": {
          "base_uri": "https://localhost:8080/"
        },
        "id": "EAD94KAkkGLn",
        "outputId": "94ad0650-8e52-4d5a-8e68-6f86cb7c58be"
      },
      "execution_count": 9,
      "outputs": [
        {
          "output_type": "stream",
          "name": "stdout",
          "text": [
            "False\n",
            "False\n",
            "True\n",
            "True\n",
            "True\n"
          ]
        }
      ]
    }
  ]
}